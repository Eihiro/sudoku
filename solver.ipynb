{
 "cells": [
  {
   "cell_type": "markdown",
   "metadata": {},
   "source": [
    "[あらゆる数独パズルを解く](http://www.aoky.net/articles/peter_norvig/sudoku.htm)\n",
    "- http://www.aoky.net/articles/peter_norvig/code/easy50.txt\n",
    "- http://magictour.free.fr/top95\n",
    "- https://projecteuler.net/index.php?section=problems&id=96"
   ]
  },
  {
   "cell_type": "code",
   "execution_count": 76,
   "metadata": {},
   "outputs": [],
   "source": [
    "def cross(A, B):\n",
    "    \"Aの要素とBの要素の外積。\"\n",
    "    return [a+b for a in A for b in B]\n",
    " \n",
    "digits   = '123456789'\n",
    "rows     = 'ABCDEFGHI'\n",
    "cols     = digits\n",
    "squares  = cross(rows, cols)\n",
    "unitlist = ([cross(rows, c) for c in cols] +\n",
    "            [cross(r, cols) for r in rows] +\n",
    "            [cross(rs, cs) for rs in ('ABC','DEF','GHI') for cs in ('123','456','789')])\n",
    "units = dict((s, [u for u in unitlist if s in u]) \n",
    "             for s in squares)\n",
    "peers = dict((s, set(sum(units[s],[]))-set([s]))\n",
    "             for s in squares)"
   ]
  },
  {
   "cell_type": "code",
   "execution_count": 84,
   "metadata": {},
   "outputs": [],
   "source": [
    "n=9"
   ]
  },
  {
   "cell_type": "code",
   "execution_count": 301,
   "metadata": {},
   "outputs": [],
   "source": [
    "idxs=np.arange(n**2)"
   ]
  },
  {
   "cell_type": "code",
   "execution_count": 303,
   "metadata": {},
   "outputs": [],
   "source": [
    "grid=np.arange(n**2).reshape(n,n)"
   ]
  },
  {
   "cell_type": "code",
   "execution_count": 304,
   "metadata": {},
   "outputs": [],
   "source": [
    "block=np.stack([grid[i*3:(i+1)*3,j*3:(j+1)*3].flatten() for i in range(3) for j in range(3)])"
   ]
  },
  {
   "cell_type": "code",
   "execution_count": 333,
   "metadata": {},
   "outputs": [],
   "source": [
    "unitlist=np.concatenate([grid, grid.T,block])"
   ]
  },
  {
   "cell_type": "code",
   "execution_count": 337,
   "metadata": {},
   "outputs": [],
   "source": [
    "def get_units(s):\n",
    "    return unitlist[np.isin(unitlist,s).sum(-1).astype(bool)]"
   ]
  },
  {
   "cell_type": "code",
   "execution_count": 341,
   "metadata": {},
   "outputs": [],
   "source": [
    "units=np.array([get_units(s) for s in range(n**2)])"
   ]
  },
  {
   "cell_type": "code",
   "execution_count": 350,
   "metadata": {},
   "outputs": [],
   "source": [
    "def get_peers(s):\n",
    "    a=np.unique(get_units(s))\n",
    "    idx=a!=s\n",
    "    return a[idx].tolist()"
   ]
  },
  {
   "cell_type": "code",
   "execution_count": 351,
   "metadata": {},
   "outputs": [],
   "source": [
    "peers=np.array([get_peers(s) for s in idxs])"
   ]
  },
  {
   "cell_type": "code",
   "execution_count": 544,
   "metadata": {},
   "outputs": [],
   "source": [
    "a=\"4.....8.5.3..........7......2.....6.....8.4......1.......6.3.7.5..2.....1.4......\"\n",
    "b= '003020600900305001001806400008102900700000008006708200002609500800203009005010300'"
   ]
  },
  {
   "cell_type": "code",
   "execution_count": 548,
   "metadata": {},
   "outputs": [],
   "source": [
    "def myint(x):\n",
    "    if x==\".\":\n",
    "        return -1\n",
    "    else:\n",
    "        return int(x)-1\n",
    "    \n",
    "def grid_values(grid):\n",
    "    \"テキスト形式gridを辞書{square: char}に変換する。空のマスは'0'か'.'とする。\"\n",
    "    chars = [myint(c) for c in grid if c in (digits+1).astype(str) or c in '0.']\n",
    "    assert len(chars) == 81\n",
    "    return np.array(chars)"
   ]
  },
  {
   "cell_type": "code",
   "execution_count": 550,
   "metadata": {},
   "outputs": [],
   "source": [
    "digits = np.arange(n)\n",
    "def parse_grid(grid):\n",
    "    \"\"\"テキスト形式gridを可能な値の辞書{square: digits}に変換する。ただし\n",
    "    矛盾が見つかった場合にはFalseを返す。\"\"\"\n",
    "    ## 最初それぞれのマスは何の数字でもありうる。それからgridより値を割り当てる。\n",
    "    values=np.full((n**2,n),True)\n",
    "    for s,d in enumerate(grid_values(grid)):\n",
    "        if d in digits and assign(values, s, d) is False:\n",
    "            print(s,d)\n",
    "            return False ## (マスsにdを割り当てられなければ失敗) \n",
    "    return values"
   ]
  },
  {
   "cell_type": "code",
   "execution_count": 551,
   "metadata": {},
   "outputs": [],
   "source": [
    "def assign(values, s, d):\n",
    "    \"\"\"values[s]からd以外のすべての値を取り除き、伝播する。\n",
    "   valuesを返す。ただし矛盾が見つかった場合はFalseを返す。\"\"\"\n",
    "    other_values=values.copy()\n",
    "    other_values[s,d]=False\n",
    "    \n",
    "    res=True\n",
    "    for d2 in digits[other_values[s]]:\n",
    "        res = eliminate(values, s, d2) is not False and res\n",
    "    \n",
    "    if res:\n",
    "        return values\n",
    "    else:\n",
    "        return False"
   ]
  },
  {
   "cell_type": "code",
   "execution_count": 552,
   "metadata": {},
   "outputs": [],
   "source": [
    "def eliminate(values, s, d):\n",
    "    \"\"\" values[s]からdを取り除く。値か場所が1つになったら伝播する。\n",
    "   valuesを返す。ただし、矛盾が見つかったときにはFalseを返す。\"\"\"\n",
    "    if not values[s,d]:\n",
    "        return values ## すでに取り除かれている\n",
    "    values[s,d] = False\n",
    "    ## (1) マスs が1つの値d2まで絞られたなら、ピアからd2を取り除く。\n",
    "    if values[s].sum() == 0:\n",
    "        return False ## 矛盾 最後の値が取り除かれた\n",
    "    elif values[s].sum() == 1:\n",
    "        # d2をピアから取り除けない場合矛盾\n",
    "        d2 = int(digits[values[s]])\n",
    "        for s2 in peers[s]:\n",
    "            if eliminate(values, s2, d2) is False:\n",
    "                return False\n",
    "        \n",
    "    ## (2) ユニットuで値dを置きうる場所が1カ所だけになったなら、dをその場所に入れる。\n",
    "    for u in units[s]:\n",
    "        dplaces = u[values[u][:,d]]\n",
    "        \n",
    "        if len(dplaces) == 0:\n",
    "            return False ## 矛盾 値を置ける場所がない\n",
    "        elif len(dplaces) == 1:\n",
    "            # ユニットの中でdを置けるところが1カ所しかないので、そこに置く\n",
    "            if assign(values, dplaces[0], d) is False:\n",
    "                return False\n",
    "    return values"
   ]
  },
  {
   "cell_type": "code",
   "execution_count": 519,
   "metadata": {},
   "outputs": [
    {
     "data": {
      "text/plain": [
       "array([9, 9, 9, 9, 9, 9, 9, 9, 9, 9, 9, 9, 9, 9, 9, 9, 9, 9, 9, 9, 9, 9,\n",
       "       9, 9, 9, 9, 9, 9, 9, 9, 9, 9, 9, 9, 9, 9, 9, 9, 9, 9, 9, 9, 9, 9,\n",
       "       9, 9, 9, 9, 9, 9, 9, 9, 9, 9, 9, 9, 9, 9, 9, 9, 9, 9, 9, 9, 9, 9,\n",
       "       9, 9, 9, 9, 9, 9, 9, 9, 9, 9, 9, 9, 9, 9, 9])"
      ]
     },
     "execution_count": 519,
     "metadata": {},
     "output_type": "execute_result"
    }
   ],
   "source": [
    "values.sum(-1)"
   ]
  },
  {
   "cell_type": "code",
   "execution_count": 557,
   "metadata": {},
   "outputs": [],
   "source": [
    "def display(values):\n",
    "    \"valuesを2次元のテキスト形式で表示する。\"\n",
    "    width = 1+values.sum(-1).max()\n",
    "    line = '+'.join(['-'*(width*3)]*3)\n",
    "    \n",
    "    def tostr(x):\n",
    "        return \"\".join((digits[x]+1).astype(str)).center(width)\n",
    "    \n",
    "    x=np.apply_along_axis(tostr, -1, values[grid])\n",
    "    for r in range(n):\n",
    "        print(*list(x[r,c]+('|' if c == 2 or c == 5 else '') for c in range(n)))\n",
    "        if r == 2 or r==5: print(line)"
   ]
  },
  {
   "cell_type": "code",
   "execution_count": 611,
   "metadata": {},
   "outputs": [],
   "source": [
    "def solve(grid): return search(parse_grid(grid))\n",
    " \n",
    "    \n",
    "def search(values):\n",
    "    \"深さ優先探索と制約伝播を使い、すべての可能なvaluesを試す。\"\n",
    "    if values is False:\n",
    "        return False ## 前の時点で失敗している\n",
    "    if (values.sum(-1)==1).prod():\n",
    "        return values ## 解けた!\n",
    "    \n",
    "    ## 取り得る値の個数が最小である未確定のマスsを選ぶ\n",
    "    x=values.sum(-1)\n",
    "    x[x==1] *= 10\n",
    "    s=x.argmin()\n",
    "    \n",
    "    return some(search(assign(values.copy(), s, d)) for d in digits[values[s]])\n",
    " \n",
    "def some(seq):\n",
    "    \"seqの要素からtrueであるものをどれか返す。\"\n",
    "    for e in seq:\n",
    "        if e is not False: return e\n",
    "    return False"
   ]
  }
 ],
 "metadata": {
  "kernelspec": {
   "display_name": "Python 3",
   "language": "python",
   "name": "python3"
  },
  "language_info": {
   "codemirror_mode": {
    "name": "ipython",
    "version": 3
   },
   "file_extension": ".py",
   "mimetype": "text/x-python",
   "name": "python",
   "nbconvert_exporter": "python",
   "pygments_lexer": "ipython3",
   "version": "3.6.6"
  }
 },
 "nbformat": 4,
 "nbformat_minor": 2
}
