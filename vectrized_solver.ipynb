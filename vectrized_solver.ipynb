{
 "cells": [
  {
   "cell_type": "markdown",
   "metadata": {},
   "source": [
    "- ufunc"
   ]
  },
  {
   "cell_type": "code",
   "execution_count": 238,
   "metadata": {},
   "outputs": [],
   "source": [
    "n=9\n",
    "idxs=np.arange(n**2)\n",
    "grid=np.arange(n**2).reshape(n,n)\n",
    "block=np.stack([grid[i*3:(i+1)*3,j*3:(j+1)*3].flatten() for i in range(3) for j in range(3)])\n",
    "unitlist=np.concatenate([grid, grid.T,block])\n",
    "\n",
    "def get_units(s):\n",
    "    return unitlist[np.isin(unitlist,s).sum(-1).astype(bool)]\n",
    "units=np.array([get_units(s) for s in range(n**2)])\n",
    "\n",
    "def get_peers(s):\n",
    "    a=np.unique(get_units(s))\n",
    "    idx=a!=s\n",
    "    return a[idx].tolist()\n",
    "peers=np.array([get_peers(s) for s in idxs])"
   ]
  },
  {
   "cell_type": "code",
   "execution_count": 239,
   "metadata": {},
   "outputs": [],
   "source": [
    "a=\"4.....8.5.3..........7......2.....6.....8.4......1.......6.3.7.5..2.....1.4......\"\n",
    "b= '003020600900305001001806400008102900700000008006708200002609500800203009005010300'"
   ]
  },
  {
   "cell_type": "code",
   "execution_count": 240,
   "metadata": {},
   "outputs": [],
   "source": [
    "def myint(x):\n",
    "    if x==\".\":\n",
    "        return -1\n",
    "    else:\n",
    "        return int(x)-1\n",
    "    \n",
    "def grid_values(grid):\n",
    "    vals = np.array([myint(c) for c in grid if c in (digits+1).astype(str) or c in '0.'])\n",
    "    assert len(vals) == 81\n",
    "    mask=np.isin(vals,digits)\n",
    "    return idxs[mask], vals[mask]"
   ]
  },
  {
   "cell_type": "code",
   "execution_count": 241,
   "metadata": {},
   "outputs": [],
   "source": [
    "digits = np.arange(n)\n",
    "def parse_grid(grid):\n",
    "    values=np.full((n**2,n),True)\n",
    "    uassign=np.frompyfunc(lambda x, y:assign(values, x,y), 2, 1)\n",
    "    uelim_peers=np.frompyfunc(lambda x, y:elim_peers(values, x,y), 2, 1)\n",
    "    def process(s,d):\n",
    "        uassign(s, d)\n",
    "        uelim_peers(s,d)\n",
    "\n",
    "    uprocess=np.frompyfunc(process, 2, 1)\n",
    "    done=np.full_like(idxs, False)\n",
    "    cand=grid_values(grid)\n",
    "    \n",
    "    while True:\n",
    "        uprocess(*cand)\n",
    "        cand=np.where(values*(values.sum(-1) == 1)[:,None]*(done[:,None]==False))\n",
    "        if len(cand[0]) == 0:\n",
    "            break\n",
    "        done[cand[0]]=True\n",
    "    return values"
   ]
  },
  {
   "cell_type": "code",
   "execution_count": 242,
   "metadata": {},
   "outputs": [],
   "source": [
    "def assign(values, s, d):\n",
    "    d2=digits[values[s]]\n",
    "    values[s, d2]=False\n",
    "    values[s, d]=True"
   ]
  },
  {
   "cell_type": "code",
   "execution_count": 243,
   "metadata": {},
   "outputs": [],
   "source": [
    "def elim_peers(values, s, d):\n",
    "    values[peers[s],d]=False"
   ]
  },
  {
   "cell_type": "code",
   "execution_count": 244,
   "metadata": {},
   "outputs": [],
   "source": [
    "def display(values):\n",
    "    \"valuesを2次元のテキスト形式で表示する。\"\n",
    "    width = 1+values.sum(-1).max()\n",
    "    line = '+'.join(['-'*(width*3)]*3)\n",
    "    \n",
    "    def tostr(x):\n",
    "        return \"\".join((digits[x]+1).astype(str)).center(width)\n",
    "    \n",
    "    x=np.apply_along_axis(tostr, -1, values[grid])\n",
    "    for r in range(n):\n",
    "        print(*list(x[r,c]+('|' if c == 2 or c == 5 else '') for c in range(n)))\n",
    "        if r == 2 or r==5: print(line)"
   ]
  },
  {
   "cell_type": "code",
   "execution_count": 245,
   "metadata": {},
   "outputs": [],
   "source": [
    "digits = np.arange(n)\n",
    "def _solve(grid): return _search(parse_grid(grid))\n",
    "def _search(values):\n",
    "    \n",
    "    if values is False:\n",
    "        return False ## 前の時点で失敗している\n",
    "    if (values.sum(-1)==1).prod():\n",
    "        return values ## 解けた!\n",
    "    \n",
    "    x=values.sum(-1)\n",
    "    x[x==1] *= 10\n",
    "    s=x.argmin()\n",
    "    v=digits[values[s]]\n",
    "    \n",
    "    def process(v, values):\n",
    "        values=values.copy()\n",
    "        uassign=np.frompyfunc(lambda x:assign(values, s, x), 1, 1)\n",
    "        uelim_peers=np.frompyfunc(lambda x:elim_peers(values, s,x), 1, 1)\n",
    "        done=np.full_like(idxs, False)\n",
    "        while True:\n",
    "            uassign(v)\n",
    "            uelim_peers(v)\n",
    "\n",
    "            # check\n",
    "            if values.sum(-1).prod() == 0:\n",
    "                return False\n",
    "            \n",
    "            cand=np.where(values*(values.sum(-1) == 1)[:,None]*(done[:,None]==False))\n",
    "            if len(cand[0]) == 0:\n",
    "                break\n",
    "            done[cand[0]]=True\n",
    "        return values\n",
    "    \n",
    "    return some(_search(process(vv, values)) for vv in v)\n",
    "\n",
    "def some(seq):\n",
    "    for e in seq:\n",
    "        if e is not False: return e\n",
    "    return False"
   ]
  },
  {
   "cell_type": "code",
   "execution_count": 246,
   "metadata": {},
   "outputs": [],
   "source": [
    "digits = np.arange(n)\n",
    "def solve(grid): return search(parse_grid(grid))\n",
    "def search(values):\n",
    "    \n",
    "    if values is False:\n",
    "        return False ## 前の時点で失敗している\n",
    "    if (values.sum(-1)==1).prod():\n",
    "        return values ## 解けた!\n",
    "    \n",
    "    x=values.sum(-1)\n",
    "    x[x==1] *= 10\n",
    "    s=x.argmin()\n",
    "    v=digits[values[s]]\n",
    "    \n",
    "    def process(v, values):\n",
    "        values=values.copy()\n",
    "        uassign=np.frompyfunc(lambda x:assign(values, s, x), 1, 1)\n",
    "        uelim_peers=np.frompyfunc(lambda x:elim_peers(values, s,x), 1, 1)\n",
    "        \n",
    "        uassign(v)\n",
    "        uelim_peers(v)\n",
    "        # check\n",
    "        if values.sum(-1).prod() == 0:\n",
    "            return False\n",
    "        return values\n",
    "    \n",
    "    return some(search(process(vv, values)) for vv in v)\n",
    "\n",
    "def some(seq):\n",
    "    for e in seq:\n",
    "        if e is not False: return e\n",
    "    return False"
   ]
  },
  {
   "cell_type": "code",
   "execution_count": 235,
   "metadata": {},
   "outputs": [
    {
     "name": "stdout",
     "output_type": "stream",
     "text": [
      "7.67 ms ± 84.5 µs per loop (mean ± std. dev. of 7 runs, 100 loops each)\n"
     ]
    }
   ],
   "source": [
    "%%timeit\n",
    "(solve(a))"
   ]
  },
  {
   "cell_type": "code",
   "execution_count": 226,
   "metadata": {},
   "outputs": [
    {
     "name": "stdout",
     "output_type": "stream",
     "text": [
      "4.61 ms ± 224 µs per loop (mean ± std. dev. of 7 runs, 100 loops each)\n"
     ]
    }
   ],
   "source": [
    "%%timeit\n",
    "(solve(b))"
   ]
  },
  {
   "cell_type": "code",
   "execution_count": 229,
   "metadata": {},
   "outputs": [
    {
     "name": "stdout",
     "output_type": "stream",
     "text": [
      "15.6 ms ± 1.91 ms per loop (mean ± std. dev. of 7 runs, 100 loops each)\n"
     ]
    }
   ],
   "source": [
    "%%timeit\n",
    "(_solve(a))"
   ]
  },
  {
   "cell_type": "code",
   "execution_count": 230,
   "metadata": {},
   "outputs": [
    {
     "name": "stdout",
     "output_type": "stream",
     "text": [
      "4.65 ms ± 381 µs per loop (mean ± std. dev. of 7 runs, 100 loops each)\n"
     ]
    }
   ],
   "source": [
    "%%timeit\n",
    "(_solve(b))"
   ]
  }
 ],
 "metadata": {
  "kernelspec": {
   "display_name": "Python 3",
   "language": "python",
   "name": "python3"
  },
  "language_info": {
   "codemirror_mode": {
    "name": "ipython",
    "version": 3
   },
   "file_extension": ".py",
   "mimetype": "text/x-python",
   "name": "python",
   "nbconvert_exporter": "python",
   "pygments_lexer": "ipython3",
   "version": "3.6.6"
  }
 },
 "nbformat": 4,
 "nbformat_minor": 2
}
